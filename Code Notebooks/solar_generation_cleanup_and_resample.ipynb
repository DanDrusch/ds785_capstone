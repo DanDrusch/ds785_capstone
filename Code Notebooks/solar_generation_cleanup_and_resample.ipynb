{
 "cells": [
  {
   "cell_type": "code",
   "execution_count": 44,
   "metadata": {},
   "outputs": [],
   "source": [
    "import pandas as pd\n",
    "from datetime import datetime\n",
    "pd.options.display.max_rows = 999"
   ]
  },
  {
   "cell_type": "code",
   "execution_count": 45,
   "metadata": {},
   "outputs": [],
   "source": [
    "clearsky = pd.read_csv('../Project_data/Generation Data/sunnyvale_mean_clearsky.csv', index_col=0)\n",
    "amy = pd.read_csv('../Project_data/Generation Data/sunnyvale_2018_AMY.csv', index_col=0)"
   ]
  },
  {
   "cell_type": "code",
   "execution_count": 46,
   "metadata": {},
   "outputs": [
    {
     "name": "stderr",
     "output_type": "stream",
     "text": [
      "/var/folders/7y/gf8rcw7n3xncltrq4bshfhxw0000gn/T/ipykernel_74012/424992033.py:2: PerformanceWarning: Non-vectorized DateOffset being applied to Series or DatetimeIndex.\n",
      "  clearsky.index = pd.to_datetime(clearsky.index, format=\"%b %d, %I:%M %p\") + pd.DateOffset(year=2018)\n",
      "/var/folders/7y/gf8rcw7n3xncltrq4bshfhxw0000gn/T/ipykernel_74012/424992033.py:3: PerformanceWarning: Non-vectorized DateOffset being applied to Series or DatetimeIndex.\n",
      "  amy.index = pd.to_datetime(amy.index, format=\"%b %d, %I:%M %p\") + pd.DateOffset(year=2018)\n"
     ]
    }
   ],
   "source": [
    "# Adjust make indexes into datetimes and add the year\n",
    "clearsky.index = pd.to_datetime(clearsky.index, format=\"%b %d, %I:%M %p\") + pd.DateOffset(year=2018)\n",
    "amy.index = pd.to_datetime(amy.index, format=\"%b %d, %I:%M %p\") + pd.DateOffset(year=2018)"
   ]
  },
  {
   "cell_type": "code",
   "execution_count": 47,
   "metadata": {},
   "outputs": [],
   "source": [
    "# Rename columns to keep things clear\n",
    "clearsky.columns = [\"1998-2022 Mean Clear Sky Generation (kWh)\"]\n",
    "amy.columns = [\"2018 Actual Meteorological Year Generation (kWh)\"]"
   ]
  },
  {
   "cell_type": "code",
   "execution_count": 48,
   "metadata": {},
   "outputs": [],
   "source": [
    "# Merge into a single DF\n",
    "generation_df = pd.concat([clearsky, amy], axis=1)"
   ]
  },
  {
   "cell_type": "code",
   "execution_count": 34,
   "metadata": {},
   "outputs": [],
   "source": [
    "# Offset by the minimum value so we don't end up with any negative values\n",
    "generation_df = generation_df - (generation_df.min().min())"
   ]
  },
  {
   "cell_type": "code",
   "execution_count": 36,
   "metadata": {},
   "outputs": [],
   "source": [
    "# Save out normalized generation file\n",
    "generation_df.to_csv(\"../Project_data/Normalized Data/sunnyvale_generation_hourly_2018.csv\")"
   ]
  },
  {
   "cell_type": "markdown",
   "metadata": {},
   "source": [
    ">The first data row in the weather file is for the first time step after midnight on January 1, local standard time. For hourly data, the first row is for the hour ending at 1 a.m. on January 1. For 15-minute data, the first row is for the quarter hour ending at 0:15 a.m. on January 1.\n",
    "\n",
    "Gilman et al. (SAM Photovoltaic Model Technical Reference Update)  \n",
    "This is to say that the labels are for the left edge of the bucket"
   ]
  },
  {
   "cell_type": "code",
   "execution_count": 37,
   "metadata": {},
   "outputs": [],
   "source": [
    "# Smaller Test Sets\n",
    "generation_df['2018 Actual Meteorological Year Generation (kWh)'].iloc[:24].to_csv(\"../Project_data/Test Data/generation_jan1.csv\")\n",
    "generation_df['2018 Actual Meteorological Year Generation (kWh)'].iloc[:24*31].to_csv(\"../Project_data/Test Data/generation_jan.csv\")\n",
    "generation_df['2018 Actual Meteorological Year Generation (kWh)']['2018-07-01' :'2018-07-31'].to_csv(\"../Project_data/Test Data/generation_july.csv\")"
   ]
  }
 ],
 "metadata": {
  "kernelspec": {
   "display_name": "ds775",
   "language": "python",
   "name": "python3"
  },
  "language_info": {
   "codemirror_mode": {
    "name": "ipython",
    "version": 3
   },
   "file_extension": ".py",
   "mimetype": "text/x-python",
   "name": "python",
   "nbconvert_exporter": "python",
   "pygments_lexer": "ipython3",
   "version": "3.10.6"
  }
 },
 "nbformat": 4,
 "nbformat_minor": 2
}
