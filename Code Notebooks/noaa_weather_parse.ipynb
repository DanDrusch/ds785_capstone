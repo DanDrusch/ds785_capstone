{
 "cells": [
  {
   "cell_type": "code",
   "execution_count": 1,
   "metadata": {},
   "outputs": [],
   "source": [
    "import pandas as pd\n",
    "import numpy as np\n",
    "from datetime import datetime"
   ]
  },
  {
   "cell_type": "code",
   "execution_count": 2,
   "metadata": {},
   "outputs": [
    {
     "name": "stderr",
     "output_type": "stream",
     "text": [
      "/var/folders/xr/mgdq1yl50vs_7jfykj8x5zdw0000gn/T/ipykernel_68196/3283949943.py:1: DtypeWarning: Columns (39,40,47) have mixed types. Specify dtype option on import or set low_memory=False.\n",
      "  raw_data = pd.read_csv(\"../Project_data/Weather Data/74509023244.csv\")\n"
     ]
    }
   ],
   "source": [
    "raw_data = pd.read_csv(\"../Project_data/Weather Data/74509023244.csv\")"
   ]
  },
  {
   "cell_type": "code",
   "execution_count": 3,
   "metadata": {},
   "outputs": [],
   "source": [
    "# Set index as timestamp\n",
    "raw_data.index = pd.to_datetime(raw_data['DATE'])"
   ]
  },
  {
   "cell_type": "code",
   "execution_count": 4,
   "metadata": {},
   "outputs": [],
   "source": [
    "# Only use Source 7 (ASOS/AWOS observation merged with USAF SURFACE HOURLY observation)\n",
    "raw_data = raw_data[raw_data.SOURCE == 7]"
   ]
  },
  {
   "cell_type": "code",
   "execution_count": 5,
   "metadata": {},
   "outputs": [],
   "source": [
    "# Make a new dataframe with the timestamp index.\n",
    "data = raw_data[[]].copy()"
   ]
  },
  {
   "cell_type": "markdown",
   "metadata": {},
   "source": [
    "# Extract Data\n",
    "Pull out relevant data from the NOAA data.\n",
    "Use Federal Climate Complex Data Documentation for Integrated Surface Data (ISD)\n",
    "\n",
    "https://www.ibm.com/docs/en/environmental-intel-suite?topic=efa-2-day-hourly-forecast-48-hour\n",
    "\n",
    "### Available Fields from api.weather.com forecasts\n",
    "```\n",
    "\"cloudCover\":            Cloud Cover (0-100)  \n",
    "\"pressureMeanSeaLevel\":  Pressure (hPa)  \n",
    "\"temperature\":           Temperature (C)  \n",
    "\"temperatureDewPoint\":   Dew Point (C)  \n",
    "\"visibility\":            Visibility (km)  \n",
    "\"windDirection\":         Wind Direction (degrees)  \n",
    "\"windSpeed\":             Wind Speed (km/h)  \n",
    "```"
   ]
  },
  {
   "cell_type": "code",
   "execution_count": 6,
   "metadata": {},
   "outputs": [],
   "source": [
    "# GA1 - SKY-COVER-LAYER: <coverage_code>,<coverage_quality>,<base_height>,<height_quality>,<cloud_type>,<cloud_type_quality>\n",
    "# SKY-COVER-LAYER identifier\n",
    "# The identifier that represents a SKY-COVER-LAYER.\n",
    "\n",
    "# Make value 0-100. None if invalid.\n",
    "CLOUD_COVER_MAP = {\n",
    "    \"00\": 0,    # None, SKC or CLR\n",
    "    \"01\": 10,   # One okta - 1/10 or less but not zero\n",
    "    \"02\": 25,   # Two oktas - 2/10 - 3/10, or FEW\n",
    "    \"03\": 40,   # Three oktas - 4/10\n",
    "    \"04\": 50,   # Four oktas - 5/10, or SCT\n",
    "    \"05\": 60,   # Five oktas - 6/10\n",
    "    \"06\": 75,   # Six oktas - 7/10 - 8/10\n",
    "    \"07\": 90,   # Seven oktas - 9/10 or more but not 10/10, or BKN\n",
    "    \"08\": 100,  # Eight oktas - 10/10, or OVC\n",
    "    \"09\": None  # Sky obscured, or cloud amount cannot be estimated (We'll fill this in later)\n",
    "    }\n",
    "\n",
    "data['cloudCover'] = raw_data['GA1'].str.split(\",\", expand=True)[0].map(CLOUD_COVER_MAP)\n",
    "    "
   ]
  },
  {
   "cell_type": "code",
   "execution_count": 7,
   "metadata": {},
   "outputs": [],
   "source": [
    "# GD1 - SKY-COVER-SUMMATION-STATE: <coverage_code>,<coverage_code2>,<coverage_quality>,<height>,<height_quality>,<characteristic_code>\n",
    "# SKY-COVER-SUMMATION-STATE coverage code\n",
    "# The code that denotes the portion of the total celestial dome covered by all layers of clouds and other\n",
    "# obscuring phenomena at or below a given height.\n",
    "\n",
    "# Make value 0-100. None if invalid.\n",
    "CLOUD_COVER_MAP = {\n",
    "    \"0\": 0,    # Clear - No coverage\n",
    "    \"1\": 12,   # FEW - 2/8 or less coverage (not including zero)\n",
    "    \"2\": 44,   # SCATTERED - 3/8-4/8 coverage\n",
    "    \"3\": 75,   # BROKEN - 5/8-7/8 coverage\n",
    "    \"4\": 100,  # OVERCAST - 8/8 coverage\n",
    "    \"5\": None, # OBSCURED\n",
    "    \"6\": None, # PARTIALLY OBSCURED\n",
    "    \"9\": None  # MISSING\n",
    "    }\n",
    "\n",
    "data['cloudCover'] = raw_data['GD1'].str.split(\",\", expand=True)[0].map(CLOUD_COVER_MAP)\n",
    "    \n",
    "# Fill forward the cloudCover data. We've got discrete levels, so interpolation doesn't work great here\n",
    "data['cloudCover'] = data['cloudCover'].ffill()"
   ]
  },
  {
   "cell_type": "code",
   "execution_count": 8,
   "metadata": {},
   "outputs": [],
   "source": [
    "# MA1 - ATMOSPHERIC-PRESSURE-OBSERVATION: <altimeter_setting>,<altimeter_quality>,<station_pressure>,<station_pressure_quality>\n",
    "# ATMOSPHERIC-PRESSURE-OBSERVATION station pressure rate\n",
    "# The atmospheric pressure at the observation point.\n",
    "# MIN: 04500 MAX: 10900 UNITS: Hectopascals\n",
    "# SCALING FACTOR: 10\n",
    "# 99999 = Missing.\n",
    "\n",
    "data['pressureMeanSeaLevel'] = raw_data['MA1'].str.split(\",\", expand=True)[2].astype(float) / 10\n",
    "\n",
    "# Interpolate any missing values\n",
    "data['pressureMeanSeaLevel'] = data['pressureMeanSeaLevel'].replace(9999.9, np.nan)\n",
    "data['pressureMeanSeaLevel'] = data['pressureMeanSeaLevel'].interpolate(method ='linear', limit_direction ='forward') "
   ]
  },
  {
   "cell_type": "code",
   "execution_count": 9,
   "metadata": {},
   "outputs": [],
   "source": [
    "# TMP - AIR-TEMPERATURE-OBSERVATION air temperature: <temperature>,<temperature_quality>\n",
    "# The temperature of the air.\n",
    "# MIN: -0932 MAX: +0618 UNITS: Degrees Celsius\n",
    "# SCALING FACTOR: 10\n",
    "# +9999 = Missing.\n",
    "\n",
    "data['temperature'] = raw_data['TMP'].str.split(\",\", expand=True)[0].astype(float) / 10\n",
    "\n",
    "# Interpolate any missing values\n",
    "data['temperature'] = data['temperature'].replace(999.9, np.nan)\n",
    "data['temperature'] = data['temperature'].interpolate(method ='linear', limit_direction ='forward') "
   ]
  },
  {
   "cell_type": "code",
   "execution_count": 10,
   "metadata": {},
   "outputs": [],
   "source": [
    "# DEW - AIR-TEMPERATURE-OBSERVATION dew point temperature: <dew_point>,<dew_point_quality>\n",
    "# The temperature to which a given parcel of air must be cooled at constant pressure and water vapor\n",
    "# content in order for saturation to occur.\n",
    "# MIN: -0982 MAX: +0368 UNITS: Degrees Celsius\n",
    "# SCALING FACTOR: 10\n",
    "# +9999 = Missing\n",
    "data['temperatureDewPoint'] = raw_data['DEW'].str.split(\",\", expand=True)[0].astype(float) / 10\n",
    "\n",
    "# Interpolate any missing values\n",
    "data['temperatureDewPoint'] = data['temperatureDewPoint'].replace(999.9, np.nan)\n",
    "data['temperatureDewPoint'] = data['temperatureDewPoint'].interpolate(method ='linear', limit_direction ='forward') "
   ]
  },
  {
   "cell_type": "code",
   "execution_count": 11,
   "metadata": {},
   "outputs": [],
   "source": [
    "# VIS - VISIBILITY-OBSERVATION distance dimension: <distance>,<distance_quality>,<variability>,<variability_quality>\n",
    "# The horizontal distance at which an object can be seen and identified.\n",
    "# MIN: 000000 MAX: 160000 UNITS: Meters\n",
    "# Missing = 999999\n",
    "# NOTE: Values greater than 160000 are entered as 160000\n",
    "data['visibility'] = raw_data['VIS'].str.split(\",\", expand=True)[0].astype(float) / 1000 # Convert to km\n",
    "\n",
    "# Interpolate any missing values\n",
    "data['visibility'] = data['visibility'].replace(999.999, np.nan)\n",
    "data['visibility'] = data['visibility'].interpolate(method ='linear', limit_direction ='forward') "
   ]
  },
  {
   "cell_type": "code",
   "execution_count": 12,
   "metadata": {},
   "outputs": [],
   "source": [
    "# WND - WIND-OBSERVATION: <direction_angle>,<direction_quality>,<type>,<speed>,<speed_quality>\n",
    "# WIND-OBSERVATION direction angle\n",
    "# The angle, measured in a clockwise direction, between true north and the direction from which the wind is blowing.\n",
    "# MIN: 001 MAX: 360 UNITS: Angular Degrees\n",
    "# SCALING FACTOR: 1\n",
    "# 999 = Missing. If type code (below) = V, then 999 indicates variable wind direction.\n",
    "\n",
    "data['windDirection'] = raw_data['WND'].str.split(\",\", expand=True)[0].astype(float)\n",
    "\n",
    "# Interpolate any missing values\n",
    "data['windDirection'] = data['windDirection'].replace(999.0, np.nan)\n",
    "data['windDirection'] = data['windDirection'].interpolate(method ='linear', limit_direction ='forward') \n",
    "data['windDirection'] = data['windDirection'].bfill() # If the first values are empty, fill them in\n",
    "\n",
    "# WIND-OBSERVATION speed rate\n",
    "# The rate of horizontal travel of air past a fixed point.\n",
    "# MIN: 0000 MAX: 0900 UNITS: meters per second\n",
    "# SCALING FACTOR: 10\n",
    "# 9999 = Missing\n",
    "\n",
    "data['windSpeed'] = raw_data['WND'].str.split(\",\", expand=True)[3].astype(float) / 10 * 3600 / 1000 # Convert to km/h\n",
    "\n",
    "# Interpolate any missing values\n",
    "data['windSpeed'] = data['windSpeed'].replace(3599.64, np.nan)\n",
    "data['windSpeed'] = data['windSpeed'].interpolate(method ='linear', limit_direction ='forward') "
   ]
  },
  {
   "cell_type": "markdown",
   "metadata": {},
   "source": [
    "## Normalize Timestamps\n",
    "Resample data to a normalized once perhour, on-the-hour timestamp"
   ]
  },
  {
   "cell_type": "code",
   "execution_count": 13,
   "metadata": {},
   "outputs": [],
   "source": [
    "# Filter out duplicate indexes\n",
    "data = data[~data.index.duplicated(keep='first')]\n",
    "# resample the data \n",
    "resampled_data = data.resample(rule='1h', origin=datetime(2018,1,1,0,0)).ffill()"
   ]
  },
  {
   "cell_type": "code",
   "execution_count": 14,
   "metadata": {},
   "outputs": [],
   "source": [
    "# Export Data\n",
    "resampled_data.to_csv(\"../Project_data/Normalized Data/noaa_sunnyvale_weather_hourly_2018.csv\")"
   ]
  }
 ],
 "metadata": {
  "kernelspec": {
   "display_name": "ds775",
   "language": "python",
   "name": "python3"
  },
  "language_info": {
   "codemirror_mode": {
    "name": "ipython",
    "version": 3
   },
   "file_extension": ".py",
   "mimetype": "text/x-python",
   "name": "python",
   "nbconvert_exporter": "python",
   "pygments_lexer": "ipython3",
   "version": "3.10.6"
  }
 },
 "nbformat": 4,
 "nbformat_minor": 2
}
