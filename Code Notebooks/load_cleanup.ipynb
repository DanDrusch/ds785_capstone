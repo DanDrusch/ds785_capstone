{
 "cells": [
  {
   "cell_type": "code",
   "execution_count": 1,
   "metadata": {},
   "outputs": [],
   "source": [
    "import pandas as pd\n",
    "import datetime\n",
    "pd.options.display.max_rows = 999"
   ]
  },
  {
   "cell_type": "code",
   "execution_count": 2,
   "metadata": {},
   "outputs": [],
   "source": [
    "load = pd.read_parquet(\"../Project_data/Use Load/367272-0.parquet\")"
   ]
  },
  {
   "cell_type": "code",
   "execution_count": 3,
   "metadata": {},
   "outputs": [],
   "source": [
    "load.index = pd.to_datetime(load['timestamp'])"
   ]
  },
  {
   "cell_type": "code",
   "execution_count": 4,
   "metadata": {},
   "outputs": [],
   "source": [
    "resampled_load = load['out.electricity.total.energy_consumption'].reindex(load.index - datetime.timedelta(minutes=15)).shift(-1).resample(rule='1h', origin=datetime.datetime(2018,1,1,0,0)).sum()"
   ]
  },
  {
   "cell_type": "code",
   "execution_count": 5,
   "metadata": {},
   "outputs": [],
   "source": [
    "resampled_load.to_csv(\"../Project_data/Normalized Data/sunnyvale_bid_367272_load_hourly_2018.csv\")"
   ]
  },
  {
   "cell_type": "code",
   "execution_count": 6,
   "metadata": {},
   "outputs": [],
   "source": [
    "resampled_load.iloc[:24].to_csv(\"../Project_data/Test Data/load_jan1.csv\")\n",
    "resampled_load.iloc[:24*31].to_csv(\"../Project_data/Test Data/load_jan.csv\")\n",
    "resampled_load['2018-07-01' :'2018-07-31'].to_csv(\"../Project_data/Test Data/load_july.csv\")"
   ]
  }
 ],
 "metadata": {
  "kernelspec": {
   "display_name": "ds785",
   "language": "python",
   "name": "python3"
  },
  "language_info": {
   "codemirror_mode": {
    "name": "ipython",
    "version": 3
   },
   "file_extension": ".py",
   "mimetype": "text/x-python",
   "name": "python",
   "nbconvert_exporter": "python",
   "pygments_lexer": "ipython3",
   "version": "3.10.6"
  }
 },
 "nbformat": 4,
 "nbformat_minor": 2
}
