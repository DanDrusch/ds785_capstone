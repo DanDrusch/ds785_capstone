{
 "cells": [
  {
   "cell_type": "code",
   "execution_count": 1,
   "metadata": {},
   "outputs": [],
   "source": [
    "import pandas as pd\n",
    "import os, sys"
   ]
  },
  {
   "cell_type": "markdown",
   "metadata": {},
   "source": [
    "This file averages the clear sky generation for each interval across the years 1998-2022"
   ]
  },
  {
   "cell_type": "code",
   "execution_count": 2,
   "metadata": {},
   "outputs": [],
   "source": [
    "legacy_dir = \"../Project_data/Generation Data/Weather Files/historical\"\n",
    "legacy_files = [os.path.join(legacy_dir, i) for i in os.listdir(legacy_dir)]"
   ]
  },
  {
   "cell_type": "code",
   "execution_count": 3,
   "metadata": {},
   "outputs": [],
   "source": [
    "dfs = []\n",
    "for filename in legacy_files:\n",
    "    dfs.append(pd.read_csv(filename, skiprows=2))"
   ]
  },
  {
   "cell_type": "code",
   "execution_count": 4,
   "metadata": {},
   "outputs": [],
   "source": [
    "clearsky_dhi = pd.concat([i['Clearsky DHI'] for i in dfs], axis=1).mean(axis=1)\n",
    "clearsky_ghi = pd.concat([i['Clearsky GHI'] for i in dfs], axis=1).mean(axis=1)\n",
    "clearsky_dni = pd.concat([i['Clearsky DNI'] for i in dfs], axis=1).mean(axis=1)"
   ]
  },
  {
   "cell_type": "code",
   "execution_count": 5,
   "metadata": {},
   "outputs": [],
   "source": [
    "cs_source = \"../Project_data/Generation Data/Weather Files/sunnyvale_2018_clearsky.csv\"\n",
    "clearsky_2018 = pd.read_csv(cs_source, skiprows=2)\n",
    "clearsky_2018 = clearsky_2018.loc[:, ~clearsky_2018.columns.str.contains('^Unnamed')]"
   ]
  },
  {
   "cell_type": "code",
   "execution_count": 6,
   "metadata": {},
   "outputs": [],
   "source": [
    "clearsky_2018['DNI'] = clearsky_dni\n",
    "clearsky_2018['GHI'] = clearsky_ghi\n",
    "clearsky_2018['DNI'] = clearsky_dni"
   ]
  },
  {
   "cell_type": "code",
   "execution_count": 7,
   "metadata": {},
   "outputs": [],
   "source": [
    "# Set Dew Point\tTemperature\tPressure\tRelative Humidity\tWind Direction\tWind Speed\tSurface Albedo to the first value\n",
    "cols = [\"Dew Point\",\"Temperature\",\"Pressure\",\"Relative Humidity\",\"Wind Direction\",\"Wind Speed\",\"Surface Albedo\"]\n",
    "for col in cols:\n",
    "    clearsky_2018[col] = clearsky_2018[col].iloc[0]"
   ]
  },
  {
   "cell_type": "code",
   "execution_count": 8,
   "metadata": {},
   "outputs": [],
   "source": [
    "cs_dest = \"../Project_data/Generation Data/Weather Files/sunnyvale_mean_clearsky.csv\"\n",
    "\n",
    "# Get header\n",
    "with open(cs_source) as f:\n",
    "    header_lines = [next(f) for _ in range(2)]\n",
    "\n",
    "with open(cs_dest, 'w') as f:\n",
    "    for line in header_lines:\n",
    "        f.write(line)\n",
    "\n",
    "    # Write out the rest of the csv file\n",
    "    clearsky_2018.to_csv(f, index=False)"
   ]
  }
 ],
 "metadata": {
  "kernelspec": {
   "display_name": "ds785",
   "language": "python",
   "name": "python3"
  },
  "language_info": {
   "codemirror_mode": {
    "name": "ipython",
    "version": 3
   },
   "file_extension": ".py",
   "mimetype": "text/x-python",
   "name": "python",
   "nbconvert_exporter": "python",
   "pygments_lexer": "ipython3",
   "version": "3.10.6"
  }
 },
 "nbformat": 4,
 "nbformat_minor": 2
}
